{
 "cells": [
  {
   "cell_type": "code",
   "execution_count": 2,
   "metadata": {},
   "outputs": [],
   "source": [
    "import networkx as nx"
   ]
  },
  {
   "cell_type": "code",
   "execution_count": 3,
   "metadata": {},
   "outputs": [],
   "source": [
    "# gera o grafo do karate club\n",
    "g = nx.karate_club_graph()"
   ]
  },
  {
   "cell_type": "code",
   "execution_count": 4,
   "metadata": {},
   "outputs": [],
   "source": [
    "# gera um grafo regular com 6 nós e 3 arestas por nó\n",
    "gre = nx.random_regular_graph(3, 6)"
   ]
  },
  {
   "cell_type": "code",
   "execution_count": 5,
   "metadata": {},
   "outputs": [],
   "source": [
    "# gera um grafo completo com 6 nós\n",
    "gco = nx.complete_graph(6)"
   ]
  },
  {
   "cell_type": "code",
   "execution_count": 6,
   "metadata": {},
   "outputs": [
    {
     "name": "stdout",
     "output_type": "stream",
     "text": [
      "dens(g)= 0.13903743315508021\n",
      "dens(gre)= 0.6\n",
      "dens(gco)= 1.0\n"
     ]
    }
   ],
   "source": [
    "# imprime a densidade dos grafos g, gre e gco\n",
    "print(\"dens(g)=\", nx.density(g))\n",
    "print(\"dens(gre)=\", nx.density(gre))\n",
    "print(\"dens(gco)=\", nx.density(gco))"
   ]
  },
  {
   "cell_type": "code",
   "execution_count": 7,
   "metadata": {},
   "outputs": [
    {
     "name": "stdout",
     "output_type": "stream",
     "text": [
      "caminho de 3 a 20 =  [3, 2, 32, 20]\n",
      "tamanho do caminho de 3 a 20 = 3\n"
     ]
    }
   ],
   "source": [
    "# gera o grafo do clube karate\n",
    "g = nx.karate_club_graph()\n",
    "\n",
    "# calcula o shortest path de 3 a 20\n",
    "caminho = nx.shortest_path(g, 3, 20)\n",
    "\n",
    "# calcula o tamanho do shortest path de 3 a 20\n",
    "longitude = nx.shortest_path_length(g,3,20)\n",
    "print(\"caminho de 3 a 20 = \", caminho)\n",
    "print(\"tamanho do caminho de 3 a 20 =\", longitude)"
   ]
  },
  {
   "cell_type": "code",
   "execution_count": 9,
   "metadata": {},
   "outputs": [
    {
     "name": "stdout",
     "output_type": "stream",
     "text": [
      "cm = 2.408199643493761\n",
      "di = 5\n"
     ]
    }
   ],
   "source": [
    "# Comprimento m%*\\color{codegreen}{é}*)dio dos caminhos geodesicos de g\n",
    "cm = nx.average_shortest_path_length(g)\n",
    "\n",
    "# Di%*\\color{codegreen}{â}*)metro de g\n",
    "di = nx.diameter(g)\n",
    "\n",
    "print(\"cm =\", cm)\n",
    "print(\"di =\", di)\n"
   ]
  },
  {
   "cell_type": "code",
   "execution_count": 12,
   "metadata": {},
   "outputs": [
    {
     "name": "stdout",
     "output_type": "stream",
     "text": [
      "cl(g) = 0.2556818181818182\n",
      "cl(gci) = 0\n",
      "cl(gre) = 0.3333333333333333\n",
      "cl(gco) = 1.0\n"
     ]
    }
   ],
   "source": [
    "# gera o grafo do clube karate\n",
    "g = nx.karate_club_graph()\n",
    "\n",
    "# gera o grafo c%*\\color{codegreen}{í}*)rculo com 6 n%*\\color{codegreen}{ó}*)s\n",
    "gci = nx.circulant_graph(6,[1])\n",
    "\n",
    "# gera o grafo regular com 6 n%*\\color{codegreen}{ó}*)s e 3 arestas por n%*\\color{codegreen}{ó}*)\n",
    "gre = nx.random_regular_graph(3, 6)\n",
    "\n",
    "# gera o grafo completo com 6 n%*\\color{codegreen}{ó}*)s\n",
    "gco = nx.complete_graph(6)\n",
    "\n",
    "print(\"cl(g) =\", nx.transitivity(g))\n",
    "print(\"cl(gci) =\", nx.transitivity(gci))\n",
    "print(\"cl(gre) =\", nx.transitivity(gre))\n",
    "print(\"cl(gco) =\", nx.transitivity(gco))"
   ]
  },
  {
   "cell_type": "code",
   "execution_count": 13,
   "metadata": {},
   "outputs": [
    {
     "name": "stdout",
     "output_type": "stream",
     "text": [
      "re(gdi) = 0.5\n"
     ]
    }
   ],
   "source": [
    "# cria um grafo direcionado gdi\n",
    "gdi = nx.DiGraph()\n",
    "\n",
    "# adiciona lista de n%*\\color{codegreen}{ó}*)s a gdi\n",
    "gdi.add_nodes_from(['A','B','C'])\n",
    "\n",
    "# adiciona arestas a gdi\n",
    "gdi.add_edge('A','B')  #A -> B\n",
    "gdi.add_edge('B','A')  #B -> A\n",
    "gdi.add_edge('B','C')  #B -> C\n",
    "gdi.add_edge('C','A')  #C -> A\n",
    "\n",
    "# calculo da reciprocidade de gdi\n",
    "re = nx.reciprocity(gdi)  \n",
    "\n",
    "print(\"re(gdi) =\", re)"
   ]
  },
  {
   "cell_type": "code",
   "execution_count": null,
   "metadata": {},
   "outputs": [],
   "source": []
  }
 ],
 "metadata": {
  "kernelspec": {
   "display_name": "Python 3",
   "language": "python",
   "name": "python3"
  },
  "language_info": {
   "codemirror_mode": {
    "name": "ipython",
    "version": 3
   },
   "file_extension": ".py",
   "mimetype": "text/x-python",
   "name": "python",
   "nbconvert_exporter": "python",
   "pygments_lexer": "ipython3",
   "version": "3.10.12"
  }
 },
 "nbformat": 4,
 "nbformat_minor": 2
}
